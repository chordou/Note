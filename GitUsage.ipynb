{
 "cells": [
  {
   "cell_type": "markdown",
   "metadata": {},
   "source": [
    "git中文版教程  \n",
    "[廖雪峰git教程](https://www.liaoxuefeng.com/wiki/896043488029600)"
   ]
  },
  {
   "cell_type": "code",
   "execution_count": 1,
   "metadata": {
    "scrolled": true
   },
   "outputs": [
    {
     "name": "stdout",
     "output_type": "stream",
     "text": [
      "usage: git [--version] [--help] [-C <path>] [-c <name>=<value>]\n",
      "           [--exec-path[=<path>]] [--html-path] [--man-path] [--info-path]\n",
      "           [-p | --paginate | -P | --no-pager] [--no-replace-objects] [--bare]\n",
      "           [--git-dir=<path>] [--work-tree=<path>] [--namespace=<name>]\n",
      "           <command> [<args>]\n",
      "\n",
      "These are common Git commands used in various situations:\n",
      "\n",
      "start a working area (see also: git help tutorial)\n",
      "   clone      Clone a repository into a new directory\n",
      "   init       Create an empty Git repository or reinitialize an existing one\n",
      "\n",
      "work on the current change (see also: git help everyday)\n",
      "   add        Add file contents to the index\n",
      "   mv         Move or rename a file, a directory, or a symlink\n",
      "   reset      Reset current HEAD to the specified state\n",
      "   rm         Remove files from the working tree and from the index\n",
      "\n",
      "examine the history and state (see also: git help revisions)\n",
      "   bisect     Use binary search to find the commit that introduced a bug\n",
      "   grep       Print lines matching a pattern\n",
      "   log        Show commit logs\n",
      "   show       Show various types of objects\n",
      "   status     Show the working tree status\n",
      "\n",
      "grow, mark and tweak your common history\n",
      "   branch     List, create, or delete branches\n",
      "   checkout   Switch branches or restore working tree files\n",
      "   commit     Record changes to the repository\n",
      "   diff       Show changes between commits, commit and working tree, etc\n",
      "   merge      Join two or more development histories together\n",
      "   rebase     Reapply commits on top of another base tip\n",
      "   tag        Create, list, delete or verify a tag object signed with GPG\n",
      "\n",
      "collaborate (see also: git help workflows)\n",
      "   fetch      Download objects and refs from another repository\n",
      "   pull       Fetch from and integrate with another repository or a local branch\n",
      "   push       Update remote refs along with associated objects\n",
      "\n",
      "'git help -a' and 'git help -g' list available subcommands and some\n",
      "concept guides. See 'git help <command>' or 'git help <concept>'\n",
      "to read about a specific subcommand or concept.\n"
     ]
    }
   ],
   "source": [
    "!git"
   ]
  },
  {
   "cell_type": "markdown",
   "metadata": {},
   "source": [
    "安装语句：\n",
    "conda install git"
   ]
  },
  {
   "cell_type": "markdown",
   "metadata": {},
   "source": [
    "## Concepts\n",
    "\n",
    "Git is a distributed version control system, which means, different users can maintain the same project with different versions, which are called branches.\n",
    "\n",
    "Commit:  create a new version(snapshot) of your code.\n",
    "\n",
    "A branch in Git is simply a lightweight movable pointer to one of these commits. The default branch name in Git is master. As you start making commits, you’re given a master branch that points to the last commit you made. Every time you commit, the master branch pointer moves forward automatically. \n",
    "\n",
    "HEAD is the pointer to the current branch reference, which is in turn a pointer to the last commit made on that branch. That means HEAD will be the parent of the next commit that is created. It’s generally simplest to think of HEAD as the snapshot of your last commit on that branch.\n",
    "<img src=\"https://git-scm.com/book/en/v2/images/advance-master.png\" width=\"500\" height=\"400\" />\n",
    "For more about branching, get it at https://git-scm.com/book/en/v2/Git-Branching-Branches-in-a-Nutshell.\n",
    "\n",
    "To make a commit from your files in workinig directory, three trees structure is involved.\n",
    "\n",
    "<img src=\"https://git-scm.com/book/en/v2/images/reset-workflow.png\" width=\"400\" height=\"400\" />\n",
    "\n",
    "HEAD is the snapshot of your last commit on the current branch.\n",
    "\n",
    "INDEX(STAGE) is where you prepare your snapshots for the next commit.\n",
    "\n",
    "Working directory (also commonly referred to as the “working tree”) is where your edit your files. \n",
    "\n",
    "Think of the working directory as a sandbox, where you can try changes out before committing them to your INDEX and then to HEAD.\n",
    "\n",
    "Basic git workflow is as usual:\n",
    "* Modify files in your working directory.\n",
    "* Stage files, adding snapshots of files to your staging(index) area  for temporary saving.\n",
    "* Commit, which takes the files in the staging area and stores that snapshot permanently to your Git directory. \n",
    "\n",
    "For more about the three-tree structure, get it at https://git-scm.com/book/en/v2/Git-Tools-Reset-Demystified."
   ]
  },
  {
   "cell_type": "markdown",
   "metadata": {},
   "source": [
    "## Basic Commands\n",
    "\n",
    "We will:\n",
    "1. Initialize a directory to a git repository.\n",
    "2. Make some changes and commit.\n",
    "3. Push to your remote repository (Github)."
   ]
  },
  {
   "cell_type": "code",
   "execution_count": 2,
   "metadata": {
    "scrolled": true
   },
   "outputs": [
    {
     "name": "stdout",
     "output_type": "stream",
     "text": [
      "Initialized empty Git repository in C:/Users/cqiuac/Desktop/Lecture-Materials-master/.git/\n"
     ]
    }
   ],
   "source": [
    "# You have some local files, want to initialize a directory to a git repository so you can use git to manage it.\n",
    "!git init\n",
    "# You want to get some codes made by others, create a local repository copied from remote repository (Generally Github).\n",
    "#!git clone https://github.com/MSBD-5001/Lecture-Materials\n",
    "# If using git clone, a directory named Lecture-Materials is created under the current path. \n",
    "#You have to move this notebook inside it to make it work properly."
   ]
  },
  {
   "cell_type": "markdown",
   "metadata": {},
   "source": [
    "git status get the current state of the snapshots in three trees structure."
   ]
  },
  {
   "cell_type": "code",
   "execution_count": 3,
   "metadata": {},
   "outputs": [
    {
     "name": "stdout",
     "output_type": "stream",
     "text": [
      "On branch master\n",
      "\n",
      "No commits yet\n",
      "\n",
      "Untracked files:\n",
      "  (use \"git add <file>...\" to include in what will be committed)\n",
      "\n",
      "\t.ipynb_checkpoints/\n",
      "\tGitUsage.ipynb\n",
      "\tNumpyUsage.ipynb\n",
      "\tPandasUsage.ipynb\n",
      "\tTutorial1.ipynb\n",
      "\tTutorial2.ipynb\n",
      "\tTutorial3.ipynb\n",
      "\tTutorial4.ipynb\n",
      "\tclassification_example.ipynb\n",
      "\tl3_simulation_lecture.ipynb\n",
      "\ttitanic/\n",
      "\n",
      "nothing added to commit but untracked files present (use \"git add\" to track)\n"
     ]
    }
   ],
   "source": [
    "!git status "
   ]
  },
  {
   "cell_type": "markdown",
   "metadata": {},
   "source": [
    "git add add files to index/stage area."
   ]
  },
  {
   "cell_type": "code",
   "execution_count": 4,
   "metadata": {},
   "outputs": [
    {
     "name": "stderr",
     "output_type": "stream",
     "text": [
      "warning: LF will be replaced by CRLF in Tutorial4.ipynb.\n",
      "The file will have its original line endings in your working directory\n"
     ]
    }
   ],
   "source": [
    "!git add Tutorial4.ipynb"
   ]
  },
  {
   "cell_type": "markdown",
   "metadata": {},
   "source": [
    "To undo changes on a file before you have committed it:"
   ]
  },
  {
   "cell_type": "markdown",
   "metadata": {},
   "source": [
    "* git reset HEAD -- filename (unstages the file)\n",
    "* git checkout -- filename (undoes your changes)"
   ]
  },
  {
   "cell_type": "code",
   "execution_count": null,
   "metadata": {},
   "outputs": [],
   "source": [
    "!git status"
   ]
  },
  {
   "cell_type": "code",
   "execution_count": null,
   "metadata": {},
   "outputs": [],
   "source": [
    "!git commit -m \"a test version\""
   ]
  },
  {
   "cell_type": "markdown",
   "metadata": {},
   "source": [
    "To fetch the most recent updates from the remote repo into your local repo, and put them into your working directory:"
   ]
  },
  {
   "cell_type": "code",
   "execution_count": null,
   "metadata": {},
   "outputs": [],
   "source": [
    "!git remote add origin_test https://github.com/MSBD-5001/Lecture-Materials.git"
   ]
  },
  {
   "cell_type": "code",
   "execution_count": null,
   "metadata": {},
   "outputs": [],
   "source": [
    "!git pull origin_test master"
   ]
  },
  {
   "cell_type": "markdown",
   "metadata": {},
   "source": [
    "To put your changes from your local repo in the remote repo:\n",
    "\n",
    "git push origin master (cannot do it directly in Jupyter Notebook)"
   ]
  }
 ],
 "metadata": {
  "kernelspec": {
   "display_name": "Python 3",
   "language": "python",
   "name": "python3"
  },
  "language_info": {
   "codemirror_mode": {
    "name": "ipython",
    "version": 3
   },
   "file_extension": ".py",
   "mimetype": "text/x-python",
   "name": "python",
   "nbconvert_exporter": "python",
   "pygments_lexer": "ipython3",
   "version": "3.7.3"
  },
  "toc": {
   "base_numbering": 1,
   "nav_menu": {},
   "number_sections": true,
   "sideBar": true,
   "skip_h1_title": false,
   "title_cell": "Table of Contents",
   "title_sidebar": "Contents",
   "toc_cell": false,
   "toc_position": {},
   "toc_section_display": true,
   "toc_window_display": false
  }
 },
 "nbformat": 4,
 "nbformat_minor": 2
}
